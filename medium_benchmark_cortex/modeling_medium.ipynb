{
 "cells": [
  {
   "cell_type": "code",
   "execution_count": 34,
   "metadata": {},
   "outputs": [],
   "source": [
    "import numpy as np  # 1.26.4\n",
    "import pandas as pd  # 2.2.0\n",
    "from sklearn.ensemble import RandomForestRegressor  # 1.4.1\n",
    "from sklearn.metrics import mean_absolute_error"
   ]
  },
  {
   "cell_type": "code",
   "execution_count": 42,
   "metadata": {},
   "outputs": [],
   "source": [
    "df = pd.read_csv(\"./output/df_melt_total.csv\", index_col=0)\n",
    "df.index = pd.to_datetime(df.index, format=\"%Y-%m-%d\")\n",
    "df = df.drop([\"Weekday_label\", \"Lockdown\", \"Health_pass\", \"Vaccine_pass\"], axis=1)\n",
    "df.to_csv(\"visits.csv\")"
   ]
  },
  {
   "cell_type": "code",
   "execution_count": 36,
   "metadata": {},
   "outputs": [],
   "source": [
    "df_start = \"2022-01-13\"\n",
    "df_split = \"2023-11-19\"\n",
    "df_stop = \"2023-12-03\"\n",
    "target = \"Visits\"\n",
    "\n",
    "# Train and test datasets creation\n",
    "X = df.iloc[:, :-1]\n",
    "y = df[[target]]\n",
    "\n",
    "X_train = X.loc[(X.index >= df_start) & (X.index < df_split), :]\n",
    "y_train = y.loc[(X.index >= df_start) & (X.index < df_split), :]\n",
    "\n",
    "X_test = X.loc[(X.index >= df_split) & (X.index < df_stop), :]\n",
    "y_test = y.loc[(X.index >= df_split) & (X.index < df_stop), :]\n",
    "\n",
    "# Model hyper-parameters\n",
    "n_estimators = 100\n",
    "max_depth = 10\n",
    "\n",
    "# Model creation and training\n",
    "rand_for = RandomForestRegressor(n_estimators=n_estimators,\n",
    "                                 max_depth=max_depth)\n",
    "\n",
    "rand_for.fit(X_train, y_train.to_numpy().ravel())\n",
    "\n",
    "# Features' importance extraction\n",
    "feat_imp = pd.DataFrame(data=rand_for.feature_importances_,\n",
    "                        index=X.columns,\n",
    "                        columns=[\"Percentage\"]).sort_values(by=\"Percentage\", ascending=False)\n",
    "\n",
    "# Predictions on test dataset\n",
    "y_pred = pd.DataFrame(data=np.round(rand_for.predict(X_test)),\n",
    "                      index=X_test.index,\n",
    "                      columns=[target])\n",
    "\n",
    "y_pred.to_csv(\"y_pred.csv\")\n",
    "\n",
    "# MAE calculation\n",
    "mae = mean_absolute_error(y_test, y_pred)\n"
   ]
  },
  {
   "cell_type": "code",
   "execution_count": 39,
   "metadata": {},
   "outputs": [
    {
     "data": {
      "text/plain": [
       "11.285714285714286"
      ]
     },
     "execution_count": 39,
     "metadata": {},
     "output_type": "execute_result"
    }
   ],
   "source": [
    "mae"
   ]
  },
  {
   "cell_type": "code",
   "execution_count": 40,
   "metadata": {},
   "outputs": [
    {
     "data": {
      "text/html": [
       "<div>\n",
       "<style scoped>\n",
       "    .dataframe tbody tr th:only-of-type {\n",
       "        vertical-align: middle;\n",
       "    }\n",
       "\n",
       "    .dataframe tbody tr th {\n",
       "        vertical-align: top;\n",
       "    }\n",
       "\n",
       "    .dataframe thead th {\n",
       "        text-align: right;\n",
       "    }\n",
       "</style>\n",
       "<table border=\"1\" class=\"dataframe\">\n",
       "  <thead>\n",
       "    <tr style=\"text-align: right;\">\n",
       "      <th></th>\n",
       "      <th>Percentage</th>\n",
       "    </tr>\n",
       "  </thead>\n",
       "  <tbody>\n",
       "    <tr>\n",
       "      <th>Temp_moy</th>\n",
       "      <td>0.300289</td>\n",
       "    </tr>\n",
       "    <tr>\n",
       "      <th>Opening_Time</th>\n",
       "      <td>0.219060</td>\n",
       "    </tr>\n",
       "    <tr>\n",
       "      <th>Weekday</th>\n",
       "      <td>0.206404</td>\n",
       "    </tr>\n",
       "    <tr>\n",
       "      <th>Month</th>\n",
       "      <td>0.095841</td>\n",
       "    </tr>\n",
       "    <tr>\n",
       "      <th>National_holidays</th>\n",
       "      <td>0.054863</td>\n",
       "    </tr>\n",
       "    <tr>\n",
       "      <th>Vent_moy</th>\n",
       "      <td>0.043445</td>\n",
       "    </tr>\n",
       "    <tr>\n",
       "      <th>DayofMonth</th>\n",
       "      <td>0.035225</td>\n",
       "    </tr>\n",
       "    <tr>\n",
       "      <th>Pluie_moy</th>\n",
       "      <td>0.021005</td>\n",
       "    </tr>\n",
       "    <tr>\n",
       "      <th>School_Holidays</th>\n",
       "      <td>0.018523</td>\n",
       "    </tr>\n",
       "    <tr>\n",
       "      <th>Year</th>\n",
       "      <td>0.005346</td>\n",
       "    </tr>\n",
       "  </tbody>\n",
       "</table>\n",
       "</div>"
      ],
      "text/plain": [
       "                   Percentage\n",
       "Temp_moy             0.300289\n",
       "Opening_Time         0.219060\n",
       "Weekday              0.206404\n",
       "Month                0.095841\n",
       "National_holidays    0.054863\n",
       "Vent_moy             0.043445\n",
       "DayofMonth           0.035225\n",
       "Pluie_moy            0.021005\n",
       "School_Holidays      0.018523\n",
       "Year                 0.005346"
      ]
     },
     "execution_count": 40,
     "metadata": {},
     "output_type": "execute_result"
    }
   ],
   "source": [
    "feat_imp"
   ]
  },
  {
   "cell_type": "code",
   "execution_count": 41,
   "metadata": {},
   "outputs": [
    {
     "data": {
      "text/html": [
       "<div>\n",
       "<style scoped>\n",
       "    .dataframe tbody tr th:only-of-type {\n",
       "        vertical-align: middle;\n",
       "    }\n",
       "\n",
       "    .dataframe tbody tr th {\n",
       "        vertical-align: top;\n",
       "    }\n",
       "\n",
       "    .dataframe thead th {\n",
       "        text-align: right;\n",
       "    }\n",
       "</style>\n",
       "<table border=\"1\" class=\"dataframe\">\n",
       "  <thead>\n",
       "    <tr style=\"text-align: right;\">\n",
       "      <th></th>\n",
       "      <th>Visits</th>\n",
       "    </tr>\n",
       "    <tr>\n",
       "      <th>Date</th>\n",
       "      <th></th>\n",
       "    </tr>\n",
       "  </thead>\n",
       "  <tbody>\n",
       "    <tr>\n",
       "      <th>2023-11-19</th>\n",
       "      <td>125.0</td>\n",
       "    </tr>\n",
       "    <tr>\n",
       "      <th>2023-11-20</th>\n",
       "      <td>29.0</td>\n",
       "    </tr>\n",
       "    <tr>\n",
       "      <th>2023-11-21</th>\n",
       "      <td>62.0</td>\n",
       "    </tr>\n",
       "    <tr>\n",
       "      <th>2023-11-22</th>\n",
       "      <td>93.0</td>\n",
       "    </tr>\n",
       "    <tr>\n",
       "      <th>2023-11-23</th>\n",
       "      <td>68.0</td>\n",
       "    </tr>\n",
       "    <tr>\n",
       "      <th>2023-11-24</th>\n",
       "      <td>72.0</td>\n",
       "    </tr>\n",
       "    <tr>\n",
       "      <th>2023-11-25</th>\n",
       "      <td>125.0</td>\n",
       "    </tr>\n",
       "    <tr>\n",
       "      <th>2023-11-26</th>\n",
       "      <td>120.0</td>\n",
       "    </tr>\n",
       "    <tr>\n",
       "      <th>2023-11-27</th>\n",
       "      <td>29.0</td>\n",
       "    </tr>\n",
       "    <tr>\n",
       "      <th>2023-11-28</th>\n",
       "      <td>69.0</td>\n",
       "    </tr>\n",
       "    <tr>\n",
       "      <th>2023-11-29</th>\n",
       "      <td>86.0</td>\n",
       "    </tr>\n",
       "    <tr>\n",
       "      <th>2023-11-30</th>\n",
       "      <td>63.0</td>\n",
       "    </tr>\n",
       "    <tr>\n",
       "      <th>2023-12-01</th>\n",
       "      <td>63.0</td>\n",
       "    </tr>\n",
       "    <tr>\n",
       "      <th>2023-12-02</th>\n",
       "      <td>66.0</td>\n",
       "    </tr>\n",
       "  </tbody>\n",
       "</table>\n",
       "</div>"
      ],
      "text/plain": [
       "            Visits\n",
       "Date              \n",
       "2023-11-19   125.0\n",
       "2023-11-20    29.0\n",
       "2023-11-21    62.0\n",
       "2023-11-22    93.0\n",
       "2023-11-23    68.0\n",
       "2023-11-24    72.0\n",
       "2023-11-25   125.0\n",
       "2023-11-26   120.0\n",
       "2023-11-27    29.0\n",
       "2023-11-28    69.0\n",
       "2023-11-29    86.0\n",
       "2023-11-30    63.0\n",
       "2023-12-01    63.0\n",
       "2023-12-02    66.0"
      ]
     },
     "execution_count": 41,
     "metadata": {},
     "output_type": "execute_result"
    }
   ],
   "source": [
    "y_pred"
   ]
  },
  {
   "cell_type": "code",
   "execution_count": null,
   "metadata": {},
   "outputs": [],
   "source": []
  }
 ],
 "metadata": {
  "kernelspec": {
   "display_name": "Python 3.9.13 ('freq_piscine_menb')",
   "language": "python",
   "name": "python3"
  },
  "language_info": {
   "codemirror_mode": {
    "name": "ipython",
    "version": 3
   },
   "file_extension": ".py",
   "mimetype": "text/x-python",
   "name": "python",
   "nbconvert_exporter": "python",
   "pygments_lexer": "ipython3",
   "version": "3.11.7"
  },
  "orig_nbformat": 4,
  "vscode": {
   "interpreter": {
    "hash": "9bb4c66e340becff9136f0895a5ebf556d2b8100cedb582e6e6eee8a049c2fae"
   }
  }
 },
 "nbformat": 4,
 "nbformat_minor": 2
}
